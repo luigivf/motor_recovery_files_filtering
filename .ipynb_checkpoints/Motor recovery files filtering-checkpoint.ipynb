{
 "cells": [
  {
   "cell_type": "code",
   "execution_count": 102,
   "metadata": {},
   "outputs": [],
   "source": [
    "import pandas as pd\n",
    "import os\n",
    "from IPython.display import display as print_dataframe"
   ]
  },
  {
   "cell_type": "code",
   "execution_count": 2,
   "metadata": {},
   "outputs": [],
   "source": [
    "files_list_folder = 'C:\\\\Users\\\\BZLJ0R\\\\OneDrive - NEXTEER AUTOMOTIVE\\\\Documents\\\\motor_recovery\\\\files_lists'"
   ]
  },
  {
   "cell_type": "code",
   "execution_count": 48,
   "metadata": {},
   "outputs": [
    {
     "name": "stdout",
     "output_type": "stream",
     "text": [
      "reflash1.txt\n",
      "reflash2reflash2.txt\n",
      "reflash2t.txt\n",
      "reflash3.txt\n",
      "reflash4.txt\n",
      "reflash6.txt\n"
     ]
    }
   ],
   "source": [
    "df = pd.DataFrame()\n",
    "\n",
    "for file_list in os.listdir(files_list_folder):\n",
    "    print(file_list)\n",
    "    df_temp = pd.read_csv(os.path.join(files_list_folder, file_list), \n",
    "                          sep = \";\"\n",
    "                         ,header=None\n",
    "                          ,dtype = 'str'\n",
    "                         ,skiprows=7\n",
    "                         ,skipfooter=2\n",
    "                         ,engine=\"python\")\n",
    "    if df.empty:\n",
    "        df = df_temp\n",
    "    else:\n",
    "        df = pd.concat([df,df_temp])"
   ]
  },
  {
   "cell_type": "code",
   "execution_count": 49,
   "metadata": {},
   "outputs": [
    {
     "data": {
      "text/plain": [
       "(1566260, 1)"
      ]
     },
     "execution_count": 49,
     "metadata": {},
     "output_type": "execute_result"
    }
   ],
   "source": [
    "df.shape"
   ]
  },
  {
   "cell_type": "code",
   "execution_count": 50,
   "metadata": {},
   "outputs": [
    {
     "data": {
      "text/plain": [
       "0         08/11/2020  06:18 AM            26,800  Inhale...\n",
       "1         09/27/2020  04:59 PM            26,800  Inhale...\n",
       "2         09/24/2020  03:59 PM            26,800  Inhale...\n",
       "3         09/24/2020  03:52 PM            26,800  Inhale...\n",
       "4         09/17/2020  10:46 PM            26,800  Inhale...\n",
       "                                ...                        \n",
       "222255    02/08/2022  06:32 AM             4,149 01315A3...\n",
       "222256    02/08/2022  07:37 AM            26,800 01315A4...\n",
       "222257    02/08/2022  07:37 AM             4,150 01315A4...\n",
       "222258    02/07/2022  01:53 PM            26,800 01315A4...\n",
       "222259    02/07/2022  01:53 PM             3,588 01315A4...\n",
       "Name: 0, Length: 1566260, dtype: object"
      ]
     },
     "execution_count": 50,
     "metadata": {},
     "output_type": "execute_result"
    }
   ],
   "source": [
    "df[0]"
   ]
  },
  {
   "cell_type": "code",
   "execution_count": 51,
   "metadata": {},
   "outputs": [],
   "source": [
    "df['inhale_position'] = df[0].str.find('Inhale')"
   ]
  },
  {
   "cell_type": "code",
   "execution_count": 52,
   "metadata": {},
   "outputs": [
    {
     "data": {
      "text/plain": [
       "0         40\n",
       "1         40\n",
       "2         40\n",
       "3         40\n",
       "4         40\n",
       "          ..\n",
       "222255    -1\n",
       "222256    48\n",
       "222257    -1\n",
       "222258    48\n",
       "222259    -1\n",
       "Name: 0, Length: 1566260, dtype: int64"
      ]
     },
     "execution_count": 52,
     "metadata": {},
     "output_type": "execute_result"
    }
   ],
   "source": [
    "df[0].str.find('Inhale')"
   ]
  },
  {
   "cell_type": "code",
   "execution_count": 53,
   "metadata": {},
   "outputs": [],
   "source": [
    "df_inhale_filtered = df[df['inhale_position'] > -1]"
   ]
  },
  {
   "cell_type": "code",
   "execution_count": 54,
   "metadata": {},
   "outputs": [
    {
     "data": {
      "text/plain": [
       "(783135, 2)"
      ]
     },
     "execution_count": 54,
     "metadata": {},
     "output_type": "execute_result"
    }
   ],
   "source": [
    "df_inhale_filtered.shape"
   ]
  },
  {
   "cell_type": "code",
   "execution_count": 55,
   "metadata": {},
   "outputs": [
    {
     "name": "stderr",
     "output_type": "stream",
     "text": [
      "<ipython-input-55-242034bac30f>:1: SettingWithCopyWarning: \n",
      "A value is trying to be set on a copy of a slice from a DataFrame.\n",
      "Try using .loc[row_indexer,col_indexer] = value instead\n",
      "\n",
      "See the caveats in the documentation: https://pandas.pydata.org/pandas-docs/stable/user_guide/indexing.html#returning-a-view-versus-a-copy\n",
      "  df_inhale_filtered['xml_position'] = df_inhale_filtered[0].str.find('.xml')\n"
     ]
    }
   ],
   "source": [
    "df_inhale_filtered['xml_position'] = df_inhale_filtered[0].str.find('.xml')"
   ]
  },
  {
   "cell_type": "code",
   "execution_count": 56,
   "metadata": {},
   "outputs": [
    {
     "data": {
      "text/html": [
       "<div>\n",
       "<style scoped>\n",
       "    .dataframe tbody tr th:only-of-type {\n",
       "        vertical-align: middle;\n",
       "    }\n",
       "\n",
       "    .dataframe tbody tr th {\n",
       "        vertical-align: top;\n",
       "    }\n",
       "\n",
       "    .dataframe thead th {\n",
       "        text-align: right;\n",
       "    }\n",
       "</style>\n",
       "<table border=\"1\" class=\"dataframe\">\n",
       "  <thead>\n",
       "    <tr style=\"text-align: right;\">\n",
       "      <th></th>\n",
       "      <th>0</th>\n",
       "      <th>inhale_position</th>\n",
       "      <th>xml_position</th>\n",
       "    </tr>\n",
       "  </thead>\n",
       "  <tbody>\n",
       "    <tr>\n",
       "      <th>0</th>\n",
       "      <td>08/11/2020  06:18 AM            26,800  Inhale...</td>\n",
       "      <td>40</td>\n",
       "      <td>87</td>\n",
       "    </tr>\n",
       "    <tr>\n",
       "      <th>1</th>\n",
       "      <td>09/27/2020  04:59 PM            26,800  Inhale...</td>\n",
       "      <td>40</td>\n",
       "      <td>88</td>\n",
       "    </tr>\n",
       "    <tr>\n",
       "      <th>2</th>\n",
       "      <td>09/24/2020  03:59 PM            26,800  Inhale...</td>\n",
       "      <td>40</td>\n",
       "      <td>88</td>\n",
       "    </tr>\n",
       "    <tr>\n",
       "      <th>3</th>\n",
       "      <td>09/24/2020  03:52 PM            26,800  Inhale...</td>\n",
       "      <td>40</td>\n",
       "      <td>88</td>\n",
       "    </tr>\n",
       "    <tr>\n",
       "      <th>4</th>\n",
       "      <td>09/17/2020  10:46 PM            26,800  Inhale...</td>\n",
       "      <td>40</td>\n",
       "      <td>88</td>\n",
       "    </tr>\n",
       "  </tbody>\n",
       "</table>\n",
       "</div>"
      ],
      "text/plain": [
       "                                                   0  inhale_position  \\\n",
       "0  08/11/2020  06:18 AM            26,800  Inhale...               40   \n",
       "1  09/27/2020  04:59 PM            26,800  Inhale...               40   \n",
       "2  09/24/2020  03:59 PM            26,800  Inhale...               40   \n",
       "3  09/24/2020  03:52 PM            26,800  Inhale...               40   \n",
       "4  09/17/2020  10:46 PM            26,800  Inhale...               40   \n",
       "\n",
       "   xml_position  \n",
       "0            87  \n",
       "1            88  \n",
       "2            88  \n",
       "3            88  \n",
       "4            88  "
      ]
     },
     "execution_count": 56,
     "metadata": {},
     "output_type": "execute_result"
    }
   ],
   "source": [
    "df_inhale_filtered.head()"
   ]
  },
  {
   "cell_type": "code",
   "execution_count": 66,
   "metadata": {},
   "outputs": [
    {
     "data": {
      "text/plain": [
       "0                  object\n",
       "inhale_position     int64\n",
       "xml_position        int64\n",
       "dtype: object"
      ]
     },
     "execution_count": 66,
     "metadata": {},
     "output_type": "execute_result"
    }
   ],
   "source": [
    "df_inhale_filtered.dtypes"
   ]
  },
  {
   "cell_type": "code",
   "execution_count": 87,
   "metadata": {},
   "outputs": [],
   "source": [
    "def slice_str(string, start, stop):\n",
    "    return string[start:stop].strip()#.replace(' AM','').replace(' PM','')"
   ]
  },
  {
   "cell_type": "code",
   "execution_count": 88,
   "metadata": {},
   "outputs": [
    {
     "name": "stderr",
     "output_type": "stream",
     "text": [
      "<ipython-input-88-e9076bcc804c>:1: SettingWithCopyWarning: \n",
      "A value is trying to be set on a copy of a slice from a DataFrame.\n",
      "Try using .loc[row_indexer,col_indexer] = value instead\n",
      "\n",
      "See the caveats in the documentation: https://pandas.pydata.org/pandas-docs/stable/user_guide/indexing.html#returning-a-view-versus-a-copy\n",
      "  df_inhale_filtered['file_name'] = df_inhale_filtered.apply(\n"
     ]
    }
   ],
   "source": [
    "df_inhale_filtered['file_name'] = df_inhale_filtered.apply(\n",
    "    lambda x: slice_str(str(x[0]),x['inhale_position'],x['xml_position']), axis = 1)"
   ]
  },
  {
   "cell_type": "code",
   "execution_count": 108,
   "metadata": {},
   "outputs": [],
   "source": [
    "def replace_am_pm(string):\n",
    "    return string.replace(' AM','').replace(' PM','')"
   ]
  },
  {
   "cell_type": "code",
   "execution_count": 109,
   "metadata": {},
   "outputs": [
    {
     "name": "stderr",
     "output_type": "stream",
     "text": [
      "<ipython-input-109-120f37d0e83c>:1: SettingWithCopyWarning: \n",
      "A value is trying to be set on a copy of a slice from a DataFrame.\n",
      "Try using .loc[row_indexer,col_indexer] = value instead\n",
      "\n",
      "See the caveats in the documentation: https://pandas.pydata.org/pandas-docs/stable/user_guide/indexing.html#returning-a-view-versus-a-copy\n",
      "  df_inhale_filtered['file_name2'] = df_inhale_filtered['file_name'].apply(replace_am_pm)\n"
     ]
    }
   ],
   "source": [
    "df_inhale_filtered['file_name2'] = df_inhale_filtered['file_name'].apply(replace_am_pm)"
   ]
  },
  {
   "cell_type": "code",
   "execution_count": null,
   "metadata": {},
   "outputs": [],
   "source": [
    "df_inhale_filtered['num_spaces'] = df_inhale_filtered['file_name'].str.count('\\s+')"
   ]
  },
  {
   "cell_type": "code",
   "execution_count": 111,
   "metadata": {},
   "outputs": [
    {
     "data": {
      "text/html": [
       "<div>\n",
       "<style scoped>\n",
       "    .dataframe tbody tr th:only-of-type {\n",
       "        vertical-align: middle;\n",
       "    }\n",
       "\n",
       "    .dataframe tbody tr th {\n",
       "        vertical-align: top;\n",
       "    }\n",
       "\n",
       "    .dataframe thead th {\n",
       "        text-align: right;\n",
       "    }\n",
       "</style>\n",
       "<table border=\"1\" class=\"dataframe\">\n",
       "  <thead>\n",
       "    <tr style=\"text-align: right;\">\n",
       "      <th></th>\n",
       "      <th>file_name</th>\n",
       "      <th>file_name2</th>\n",
       "      <th>num_spaces</th>\n",
       "    </tr>\n",
       "  </thead>\n",
       "  <tbody>\n",
       "    <tr>\n",
       "      <th>42921</th>\n",
       "      <td>Inhale SD000133X01 Q716700163 6_6_2019 8_10_52 AM</td>\n",
       "      <td>Inhale SD000133X01 Q716700163 6_6_2019 8_10_52</td>\n",
       "      <td>5</td>\n",
       "    </tr>\n",
       "    <tr>\n",
       "      <th>42922</th>\n",
       "      <td>Inhale SD000133X01 Q721600650 6_6_2019 8_20_47 AM</td>\n",
       "      <td>Inhale SD000133X01 Q721600650 6_6_2019 8_20_47</td>\n",
       "      <td>5</td>\n",
       "    </tr>\n",
       "    <tr>\n",
       "      <th>42923</th>\n",
       "      <td>Inhale SD000133X01 Q826002456 6_17_2019 9_47_2...</td>\n",
       "      <td>Inhale SD000133X01 Q826002456 6_17_2019 9_47_24</td>\n",
       "      <td>5</td>\n",
       "    </tr>\n",
       "    <tr>\n",
       "      <th>42924</th>\n",
       "      <td>Inhale SD000133X01 Q907302710 7_12_2019 11_58_...</td>\n",
       "      <td>Inhale SD000133X01 Q907302710 7_12_2019 11_58_27</td>\n",
       "      <td>5</td>\n",
       "    </tr>\n",
       "    <tr>\n",
       "      <th>42925</th>\n",
       "      <td>Inhale SD000133X01 Q908702113 9_12_2019 10_44_...</td>\n",
       "      <td>Inhale SD000133X01 Q908702113 9_12_2019 10_44_05</td>\n",
       "      <td>5</td>\n",
       "    </tr>\n",
       "    <tr>\n",
       "      <th>...</th>\n",
       "      <td>...</td>\n",
       "      <td>...</td>\n",
       "      <td>...</td>\n",
       "    </tr>\n",
       "    <tr>\n",
       "      <th>82272</th>\n",
       "      <td>Inhale SD000133X03 Q004305618 5_20_2020 1_34_1...</td>\n",
       "      <td>Inhale SD000133X03 Q004305618 5_20_2020 1_34_13</td>\n",
       "      <td>5</td>\n",
       "    </tr>\n",
       "    <tr>\n",
       "      <th>82278</th>\n",
       "      <td>Inhale SD000133X03 Q004305571 5_20_2020 11_12_...</td>\n",
       "      <td>Inhale SD000133X03 Q004305571 5_20_2020 11_12_11</td>\n",
       "      <td>5</td>\n",
       "    </tr>\n",
       "    <tr>\n",
       "      <th>82298</th>\n",
       "      <td>Inhale SD000133X03 Q004305375 5_25_2020 1_44_3...</td>\n",
       "      <td>Inhale SD000133X03 Q004305375 5_25_2020 1_44_34</td>\n",
       "      <td>5</td>\n",
       "    </tr>\n",
       "    <tr>\n",
       "      <th>82310</th>\n",
       "      <td>Inhale SD000133X03 Q004305260 5_25_2020 11_08_...</td>\n",
       "      <td>Inhale SD000133X03 Q004305260 5_25_2020 11_08_48</td>\n",
       "      <td>5</td>\n",
       "    </tr>\n",
       "    <tr>\n",
       "      <th>82312</th>\n",
       "      <td>Inhale SD000133X03 Q004505227 5_20_2020 1_11_4...</td>\n",
       "      <td>Inhale SD000133X03 Q004505227 5_20_2020 1_11_41</td>\n",
       "      <td>5</td>\n",
       "    </tr>\n",
       "  </tbody>\n",
       "</table>\n",
       "<p>146837 rows × 3 columns</p>\n",
       "</div>"
      ],
      "text/plain": [
       "                                               file_name  \\\n",
       "42921  Inhale SD000133X01 Q716700163 6_6_2019 8_10_52 AM   \n",
       "42922  Inhale SD000133X01 Q721600650 6_6_2019 8_20_47 AM   \n",
       "42923  Inhale SD000133X01 Q826002456 6_17_2019 9_47_2...   \n",
       "42924  Inhale SD000133X01 Q907302710 7_12_2019 11_58_...   \n",
       "42925  Inhale SD000133X01 Q908702113 9_12_2019 10_44_...   \n",
       "...                                                  ...   \n",
       "82272  Inhale SD000133X03 Q004305618 5_20_2020 1_34_1...   \n",
       "82278  Inhale SD000133X03 Q004305571 5_20_2020 11_12_...   \n",
       "82298  Inhale SD000133X03 Q004305375 5_25_2020 1_44_3...   \n",
       "82310  Inhale SD000133X03 Q004305260 5_25_2020 11_08_...   \n",
       "82312  Inhale SD000133X03 Q004505227 5_20_2020 1_11_4...   \n",
       "\n",
       "                                             file_name2  num_spaces  \n",
       "42921    Inhale SD000133X01 Q716700163 6_6_2019 8_10_52           5  \n",
       "42922    Inhale SD000133X01 Q721600650 6_6_2019 8_20_47           5  \n",
       "42923   Inhale SD000133X01 Q826002456 6_17_2019 9_47_24           5  \n",
       "42924  Inhale SD000133X01 Q907302710 7_12_2019 11_58_27           5  \n",
       "42925  Inhale SD000133X01 Q908702113 9_12_2019 10_44_05           5  \n",
       "...                                                 ...         ...  \n",
       "82272   Inhale SD000133X03 Q004305618 5_20_2020 1_34_13           5  \n",
       "82278  Inhale SD000133X03 Q004305571 5_20_2020 11_12_11           5  \n",
       "82298   Inhale SD000133X03 Q004305375 5_25_2020 1_44_34           5  \n",
       "82310  Inhale SD000133X03 Q004305260 5_25_2020 11_08_48           5  \n",
       "82312   Inhale SD000133X03 Q004505227 5_20_2020 1_11_41           5  \n",
       "\n",
       "[146837 rows x 3 columns]"
      ]
     },
     "metadata": {},
     "output_type": "display_data"
    }
   ],
   "source": [
    "print_dataframe(df_inhale_filtered[df_inhale_filtered['num_spaces'] == 5][['file_name','file_name2','num_spaces']])"
   ]
  },
  {
   "cell_type": "code",
   "execution_count": 112,
   "metadata": {},
   "outputs": [
    {
     "name": "stderr",
     "output_type": "stream",
     "text": [
      "<ipython-input-112-96f38b16d70e>:1: SettingWithCopyWarning: \n",
      "A value is trying to be set on a copy of a slice from a DataFrame.\n",
      "Try using .loc[row_indexer,col_indexer] = value instead\n",
      "\n",
      "See the caveats in the documentation: https://pandas.pydata.org/pandas-docs/stable/user_guide/indexing.html#returning-a-view-versus-a-copy\n",
      "  df_inhale_filtered['num_spaces2'] = df_inhale_filtered['file_name2'].str.count('\\s+')\n"
     ]
    }
   ],
   "source": [
    "df_inhale_filtered['num_spaces2'] = df_inhale_filtered['file_name2'].str.count('\\s+')"
   ]
  },
  {
   "cell_type": "code",
   "execution_count": 113,
   "metadata": {},
   "outputs": [],
   "source": [
    "df_name_filtered = df_inhale_filtered[df_inhale_filtered['num_spaces2'] == 4]"
   ]
  },
  {
   "cell_type": "code",
   "execution_count": 114,
   "metadata": {},
   "outputs": [
    {
     "data": {
      "text/html": [
       "<div>\n",
       "<style scoped>\n",
       "    .dataframe tbody tr th:only-of-type {\n",
       "        vertical-align: middle;\n",
       "    }\n",
       "\n",
       "    .dataframe tbody tr th {\n",
       "        vertical-align: top;\n",
       "    }\n",
       "\n",
       "    .dataframe thead th {\n",
       "        text-align: right;\n",
       "    }\n",
       "</style>\n",
       "<table border=\"1\" class=\"dataframe\">\n",
       "  <thead>\n",
       "    <tr style=\"text-align: right;\">\n",
       "      <th></th>\n",
       "      <th>file_name</th>\n",
       "      <th>file_name2</th>\n",
       "      <th>num_spaces</th>\n",
       "      <th>num_spaces2</th>\n",
       "    </tr>\n",
       "  </thead>\n",
       "  <tbody>\n",
       "    <tr>\n",
       "      <th>42921</th>\n",
       "      <td>Inhale SD000133X01 Q716700163 6_6_2019 8_10_52 AM</td>\n",
       "      <td>Inhale SD000133X01 Q716700163 6_6_2019 8_10_52</td>\n",
       "      <td>5</td>\n",
       "      <td>4</td>\n",
       "    </tr>\n",
       "    <tr>\n",
       "      <th>42922</th>\n",
       "      <td>Inhale SD000133X01 Q721600650 6_6_2019 8_20_47 AM</td>\n",
       "      <td>Inhale SD000133X01 Q721600650 6_6_2019 8_20_47</td>\n",
       "      <td>5</td>\n",
       "      <td>4</td>\n",
       "    </tr>\n",
       "    <tr>\n",
       "      <th>42923</th>\n",
       "      <td>Inhale SD000133X01 Q826002456 6_17_2019 9_47_2...</td>\n",
       "      <td>Inhale SD000133X01 Q826002456 6_17_2019 9_47_24</td>\n",
       "      <td>5</td>\n",
       "      <td>4</td>\n",
       "    </tr>\n",
       "    <tr>\n",
       "      <th>42924</th>\n",
       "      <td>Inhale SD000133X01 Q907302710 7_12_2019 11_58_...</td>\n",
       "      <td>Inhale SD000133X01 Q907302710 7_12_2019 11_58_27</td>\n",
       "      <td>5</td>\n",
       "      <td>4</td>\n",
       "    </tr>\n",
       "    <tr>\n",
       "      <th>42925</th>\n",
       "      <td>Inhale SD000133X01 Q908702113 9_12_2019 10_44_...</td>\n",
       "      <td>Inhale SD000133X01 Q908702113 9_12_2019 10_44_05</td>\n",
       "      <td>5</td>\n",
       "      <td>4</td>\n",
       "    </tr>\n",
       "    <tr>\n",
       "      <th>...</th>\n",
       "      <td>...</td>\n",
       "      <td>...</td>\n",
       "      <td>...</td>\n",
       "      <td>...</td>\n",
       "    </tr>\n",
       "    <tr>\n",
       "      <th>82272</th>\n",
       "      <td>Inhale SD000133X03 Q004305618 5_20_2020 1_34_1...</td>\n",
       "      <td>Inhale SD000133X03 Q004305618 5_20_2020 1_34_13</td>\n",
       "      <td>5</td>\n",
       "      <td>4</td>\n",
       "    </tr>\n",
       "    <tr>\n",
       "      <th>82278</th>\n",
       "      <td>Inhale SD000133X03 Q004305571 5_20_2020 11_12_...</td>\n",
       "      <td>Inhale SD000133X03 Q004305571 5_20_2020 11_12_11</td>\n",
       "      <td>5</td>\n",
       "      <td>4</td>\n",
       "    </tr>\n",
       "    <tr>\n",
       "      <th>82298</th>\n",
       "      <td>Inhale SD000133X03 Q004305375 5_25_2020 1_44_3...</td>\n",
       "      <td>Inhale SD000133X03 Q004305375 5_25_2020 1_44_34</td>\n",
       "      <td>5</td>\n",
       "      <td>4</td>\n",
       "    </tr>\n",
       "    <tr>\n",
       "      <th>82310</th>\n",
       "      <td>Inhale SD000133X03 Q004305260 5_25_2020 11_08_...</td>\n",
       "      <td>Inhale SD000133X03 Q004305260 5_25_2020 11_08_48</td>\n",
       "      <td>5</td>\n",
       "      <td>4</td>\n",
       "    </tr>\n",
       "    <tr>\n",
       "      <th>82312</th>\n",
       "      <td>Inhale SD000133X03 Q004505227 5_20_2020 1_11_4...</td>\n",
       "      <td>Inhale SD000133X03 Q004505227 5_20_2020 1_11_41</td>\n",
       "      <td>5</td>\n",
       "      <td>4</td>\n",
       "    </tr>\n",
       "  </tbody>\n",
       "</table>\n",
       "<p>146837 rows × 4 columns</p>\n",
       "</div>"
      ],
      "text/plain": [
       "                                               file_name  \\\n",
       "42921  Inhale SD000133X01 Q716700163 6_6_2019 8_10_52 AM   \n",
       "42922  Inhale SD000133X01 Q721600650 6_6_2019 8_20_47 AM   \n",
       "42923  Inhale SD000133X01 Q826002456 6_17_2019 9_47_2...   \n",
       "42924  Inhale SD000133X01 Q907302710 7_12_2019 11_58_...   \n",
       "42925  Inhale SD000133X01 Q908702113 9_12_2019 10_44_...   \n",
       "...                                                  ...   \n",
       "82272  Inhale SD000133X03 Q004305618 5_20_2020 1_34_1...   \n",
       "82278  Inhale SD000133X03 Q004305571 5_20_2020 11_12_...   \n",
       "82298  Inhale SD000133X03 Q004305375 5_25_2020 1_44_3...   \n",
       "82310  Inhale SD000133X03 Q004305260 5_25_2020 11_08_...   \n",
       "82312  Inhale SD000133X03 Q004505227 5_20_2020 1_11_4...   \n",
       "\n",
       "                                             file_name2  num_spaces  \\\n",
       "42921    Inhale SD000133X01 Q716700163 6_6_2019 8_10_52           5   \n",
       "42922    Inhale SD000133X01 Q721600650 6_6_2019 8_20_47           5   \n",
       "42923   Inhale SD000133X01 Q826002456 6_17_2019 9_47_24           5   \n",
       "42924  Inhale SD000133X01 Q907302710 7_12_2019 11_58_27           5   \n",
       "42925  Inhale SD000133X01 Q908702113 9_12_2019 10_44_05           5   \n",
       "...                                                 ...         ...   \n",
       "82272   Inhale SD000133X03 Q004305618 5_20_2020 1_34_13           5   \n",
       "82278  Inhale SD000133X03 Q004305571 5_20_2020 11_12_11           5   \n",
       "82298   Inhale SD000133X03 Q004305375 5_25_2020 1_44_34           5   \n",
       "82310  Inhale SD000133X03 Q004305260 5_25_2020 11_08_48           5   \n",
       "82312   Inhale SD000133X03 Q004505227 5_20_2020 1_11_41           5   \n",
       "\n",
       "       num_spaces2  \n",
       "42921            4  \n",
       "42922            4  \n",
       "42923            4  \n",
       "42924            4  \n",
       "42925            4  \n",
       "...            ...  \n",
       "82272            4  \n",
       "82278            4  \n",
       "82298            4  \n",
       "82310            4  \n",
       "82312            4  \n",
       "\n",
       "[146837 rows x 4 columns]"
      ]
     },
     "metadata": {},
     "output_type": "display_data"
    }
   ],
   "source": [
    "print_dataframe(df_inhale_filtered[df_inhale_filtered['num_spaces'] == 5][['file_name','file_name2','num_spaces','num_spaces2']])"
   ]
  },
  {
   "cell_type": "code",
   "execution_count": 115,
   "metadata": {},
   "outputs": [
    {
     "name": "stderr",
     "output_type": "stream",
     "text": [
      "<ipython-input-115-c1df250cd5f1>:1: SettingWithCopyWarning: \n",
      "A value is trying to be set on a copy of a slice from a DataFrame.\n",
      "Try using .loc[row_indexer,col_indexer] = value instead\n",
      "\n",
      "See the caveats in the documentation: https://pandas.pydata.org/pandas-docs/stable/user_guide/indexing.html#returning-a-view-versus-a-copy\n",
      "  df_name_filtered[['Inhale','SD','Motor','date','hour']] = df_name_filtered['file_name2'].str.split(' ', expand = True)\n",
      "<ipython-input-115-c1df250cd5f1>:1: SettingWithCopyWarning: \n",
      "A value is trying to be set on a copy of a slice from a DataFrame.\n",
      "Try using .loc[row_indexer,col_indexer] = value instead\n",
      "\n",
      "See the caveats in the documentation: https://pandas.pydata.org/pandas-docs/stable/user_guide/indexing.html#returning-a-view-versus-a-copy\n",
      "  df_name_filtered[['Inhale','SD','Motor','date','hour']] = df_name_filtered['file_name2'].str.split(' ', expand = True)\n",
      "<ipython-input-115-c1df250cd5f1>:1: SettingWithCopyWarning: \n",
      "A value is trying to be set on a copy of a slice from a DataFrame.\n",
      "Try using .loc[row_indexer,col_indexer] = value instead\n",
      "\n",
      "See the caveats in the documentation: https://pandas.pydata.org/pandas-docs/stable/user_guide/indexing.html#returning-a-view-versus-a-copy\n",
      "  df_name_filtered[['Inhale','SD','Motor','date','hour']] = df_name_filtered['file_name2'].str.split(' ', expand = True)\n",
      "<ipython-input-115-c1df250cd5f1>:1: SettingWithCopyWarning: \n",
      "A value is trying to be set on a copy of a slice from a DataFrame.\n",
      "Try using .loc[row_indexer,col_indexer] = value instead\n",
      "\n",
      "See the caveats in the documentation: https://pandas.pydata.org/pandas-docs/stable/user_guide/indexing.html#returning-a-view-versus-a-copy\n",
      "  df_name_filtered[['Inhale','SD','Motor','date','hour']] = df_name_filtered['file_name2'].str.split(' ', expand = True)\n",
      "<ipython-input-115-c1df250cd5f1>:1: SettingWithCopyWarning: \n",
      "A value is trying to be set on a copy of a slice from a DataFrame.\n",
      "Try using .loc[row_indexer,col_indexer] = value instead\n",
      "\n",
      "See the caveats in the documentation: https://pandas.pydata.org/pandas-docs/stable/user_guide/indexing.html#returning-a-view-versus-a-copy\n",
      "  df_name_filtered[['Inhale','SD','Motor','date','hour']] = df_name_filtered['file_name2'].str.split(' ', expand = True)\n"
     ]
    }
   ],
   "source": [
    "df_name_filtered[['Inhale','SD','Motor','date','hour']] = df_name_filtered['file_name2'].str.split(' ', expand = True)"
   ]
  },
  {
   "cell_type": "code",
   "execution_count": 117,
   "metadata": {},
   "outputs": [],
   "source": [
    "df_name_filtered = df_name_filtered[['SD','Motor','date']]"
   ]
  },
  {
   "cell_type": "code",
   "execution_count": 118,
   "metadata": {},
   "outputs": [
    {
     "data": {
      "text/html": [
       "<div>\n",
       "<style scoped>\n",
       "    .dataframe tbody tr th:only-of-type {\n",
       "        vertical-align: middle;\n",
       "    }\n",
       "\n",
       "    .dataframe tbody tr th {\n",
       "        vertical-align: top;\n",
       "    }\n",
       "\n",
       "    .dataframe thead th {\n",
       "        text-align: right;\n",
       "    }\n",
       "</style>\n",
       "<table border=\"1\" class=\"dataframe\">\n",
       "  <thead>\n",
       "    <tr style=\"text-align: right;\">\n",
       "      <th></th>\n",
       "      <th>SD</th>\n",
       "      <th>Motor</th>\n",
       "      <th>date</th>\n",
       "    </tr>\n",
       "  </thead>\n",
       "  <tbody>\n",
       "    <tr>\n",
       "      <th>0</th>\n",
       "      <td>SD000133X01</td>\n",
       "      <td>Q007406486</td>\n",
       "      <td>11-Aug-20</td>\n",
       "    </tr>\n",
       "    <tr>\n",
       "      <th>1</th>\n",
       "      <td>SD000133X01</td>\n",
       "      <td>Q008305121</td>\n",
       "      <td>27-Sep-20</td>\n",
       "    </tr>\n",
       "    <tr>\n",
       "      <th>2</th>\n",
       "      <td>SD000133X01</td>\n",
       "      <td>Q008306649</td>\n",
       "      <td>24-Sep-20</td>\n",
       "    </tr>\n",
       "    <tr>\n",
       "      <th>3</th>\n",
       "      <td>SD000133X01</td>\n",
       "      <td>Q009905512</td>\n",
       "      <td>24-Sep-20</td>\n",
       "    </tr>\n",
       "    <tr>\n",
       "      <th>4</th>\n",
       "      <td>SD000133X01</td>\n",
       "      <td>Q020305438</td>\n",
       "      <td>17-Sep-20</td>\n",
       "    </tr>\n",
       "    <tr>\n",
       "      <th>...</th>\n",
       "      <td>...</td>\n",
       "      <td>...</td>\n",
       "      <td>...</td>\n",
       "    </tr>\n",
       "    <tr>\n",
       "      <th>222250</th>\n",
       "      <td>SD000133X03</td>\n",
       "      <td>Q136505289</td>\n",
       "      <td>08-Feb-22</td>\n",
       "    </tr>\n",
       "    <tr>\n",
       "      <th>222252</th>\n",
       "      <td>SD000133X03</td>\n",
       "      <td>Q201105961</td>\n",
       "      <td>07-Feb-22</td>\n",
       "    </tr>\n",
       "    <tr>\n",
       "      <th>222254</th>\n",
       "      <td>SD000133X03</td>\n",
       "      <td>Q201205117</td>\n",
       "      <td>08-Feb-22</td>\n",
       "    </tr>\n",
       "    <tr>\n",
       "      <th>222256</th>\n",
       "      <td>SD000133X03</td>\n",
       "      <td>Q201205101</td>\n",
       "      <td>08-Feb-22</td>\n",
       "    </tr>\n",
       "    <tr>\n",
       "      <th>222258</th>\n",
       "      <td>SD000133X03</td>\n",
       "      <td>Q201105924</td>\n",
       "      <td>07-Feb-22</td>\n",
       "    </tr>\n",
       "  </tbody>\n",
       "</table>\n",
       "<p>779779 rows × 3 columns</p>\n",
       "</div>"
      ],
      "text/plain": [
       "                 SD       Motor       date\n",
       "0       SD000133X01  Q007406486  11-Aug-20\n",
       "1       SD000133X01  Q008305121  27-Sep-20\n",
       "2       SD000133X01  Q008306649  24-Sep-20\n",
       "3       SD000133X01  Q009905512  24-Sep-20\n",
       "4       SD000133X01  Q020305438  17-Sep-20\n",
       "...             ...         ...        ...\n",
       "222250  SD000133X03  Q136505289  08-Feb-22\n",
       "222252  SD000133X03  Q201105961  07-Feb-22\n",
       "222254  SD000133X03  Q201205117  08-Feb-22\n",
       "222256  SD000133X03  Q201205101  08-Feb-22\n",
       "222258  SD000133X03  Q201105924  07-Feb-22\n",
       "\n",
       "[779779 rows x 3 columns]"
      ]
     },
     "execution_count": 118,
     "metadata": {},
     "output_type": "execute_result"
    }
   ],
   "source": [
    "df_name_filtered"
   ]
  },
  {
   "cell_type": "code",
   "execution_count": 122,
   "metadata": {},
   "outputs": [
    {
     "ename": "ImportError",
     "evalue": "Pandas requires version '3.0.7' or newer of 'openpyxl' (version '3.0.5' currently installed).",
     "output_type": "error",
     "traceback": [
      "\u001b[1;31m---------------------------------------------------------------------------\u001b[0m",
      "\u001b[1;31mImportError\u001b[0m                               Traceback (most recent call last)",
      "\u001b[1;32m<ipython-input-122-ca991219de5f>\u001b[0m in \u001b[0;36m<module>\u001b[1;34m\u001b[0m\n\u001b[1;32m----> 1\u001b[1;33m \u001b[0mdf_motor_list\u001b[0m \u001b[1;33m=\u001b[0m \u001b[0mpd\u001b[0m\u001b[1;33m.\u001b[0m\u001b[0mread_excel\u001b[0m\u001b[1;33m(\u001b[0m\u001b[1;34m'MPP Recovery.xlsx'\u001b[0m\u001b[1;33m)\u001b[0m\u001b[1;33m\u001b[0m\u001b[1;33m\u001b[0m\u001b[0m\n\u001b[0m",
      "\u001b[1;32m~\\AppData\\Roaming\\Python\\Python38\\site-packages\\pandas\\util\\_decorators.py\u001b[0m in \u001b[0;36mwrapper\u001b[1;34m(*args, **kwargs)\u001b[0m\n\u001b[0;32m    209\u001b[0m                 \u001b[1;32melse\u001b[0m\u001b[1;33m:\u001b[0m\u001b[1;33m\u001b[0m\u001b[1;33m\u001b[0m\u001b[0m\n\u001b[0;32m    210\u001b[0m                     \u001b[0mkwargs\u001b[0m\u001b[1;33m[\u001b[0m\u001b[0mnew_arg_name\u001b[0m\u001b[1;33m]\u001b[0m \u001b[1;33m=\u001b[0m \u001b[0mnew_arg_value\u001b[0m\u001b[1;33m\u001b[0m\u001b[1;33m\u001b[0m\u001b[0m\n\u001b[1;32m--> 211\u001b[1;33m             \u001b[1;32mreturn\u001b[0m \u001b[0mfunc\u001b[0m\u001b[1;33m(\u001b[0m\u001b[1;33m*\u001b[0m\u001b[0margs\u001b[0m\u001b[1;33m,\u001b[0m \u001b[1;33m**\u001b[0m\u001b[0mkwargs\u001b[0m\u001b[1;33m)\u001b[0m\u001b[1;33m\u001b[0m\u001b[1;33m\u001b[0m\u001b[0m\n\u001b[0m\u001b[0;32m    212\u001b[0m \u001b[1;33m\u001b[0m\u001b[0m\n\u001b[0;32m    213\u001b[0m         \u001b[1;32mreturn\u001b[0m \u001b[0mcast\u001b[0m\u001b[1;33m(\u001b[0m\u001b[0mF\u001b[0m\u001b[1;33m,\u001b[0m \u001b[0mwrapper\u001b[0m\u001b[1;33m)\u001b[0m\u001b[1;33m\u001b[0m\u001b[1;33m\u001b[0m\u001b[0m\n",
      "\u001b[1;32m~\\AppData\\Roaming\\Python\\Python38\\site-packages\\pandas\\util\\_decorators.py\u001b[0m in \u001b[0;36mwrapper\u001b[1;34m(*args, **kwargs)\u001b[0m\n\u001b[0;32m    329\u001b[0m                     \u001b[0mstacklevel\u001b[0m\u001b[1;33m=\u001b[0m\u001b[0mfind_stack_level\u001b[0m\u001b[1;33m(\u001b[0m\u001b[1;33m)\u001b[0m\u001b[1;33m,\u001b[0m\u001b[1;33m\u001b[0m\u001b[1;33m\u001b[0m\u001b[0m\n\u001b[0;32m    330\u001b[0m                 )\n\u001b[1;32m--> 331\u001b[1;33m             \u001b[1;32mreturn\u001b[0m \u001b[0mfunc\u001b[0m\u001b[1;33m(\u001b[0m\u001b[1;33m*\u001b[0m\u001b[0margs\u001b[0m\u001b[1;33m,\u001b[0m \u001b[1;33m**\u001b[0m\u001b[0mkwargs\u001b[0m\u001b[1;33m)\u001b[0m\u001b[1;33m\u001b[0m\u001b[1;33m\u001b[0m\u001b[0m\n\u001b[0m\u001b[0;32m    332\u001b[0m \u001b[1;33m\u001b[0m\u001b[0m\n\u001b[0;32m    333\u001b[0m         \u001b[1;31m# error: \"Callable[[VarArg(Any), KwArg(Any)], Any]\" has no\u001b[0m\u001b[1;33m\u001b[0m\u001b[1;33m\u001b[0m\u001b[1;33m\u001b[0m\u001b[0m\n",
      "\u001b[1;32m~\\AppData\\Roaming\\Python\\Python38\\site-packages\\pandas\\io\\excel\\_base.py\u001b[0m in \u001b[0;36mread_excel\u001b[1;34m(io, sheet_name, header, names, index_col, usecols, squeeze, dtype, engine, converters, true_values, false_values, skiprows, nrows, na_values, keep_default_na, na_filter, verbose, parse_dates, date_parser, thousands, decimal, comment, skipfooter, convert_float, mangle_dupe_cols, storage_options)\u001b[0m\n\u001b[0;32m    480\u001b[0m     \u001b[1;32mif\u001b[0m \u001b[1;32mnot\u001b[0m \u001b[0misinstance\u001b[0m\u001b[1;33m(\u001b[0m\u001b[0mio\u001b[0m\u001b[1;33m,\u001b[0m \u001b[0mExcelFile\u001b[0m\u001b[1;33m)\u001b[0m\u001b[1;33m:\u001b[0m\u001b[1;33m\u001b[0m\u001b[1;33m\u001b[0m\u001b[0m\n\u001b[0;32m    481\u001b[0m         \u001b[0mshould_close\u001b[0m \u001b[1;33m=\u001b[0m \u001b[1;32mTrue\u001b[0m\u001b[1;33m\u001b[0m\u001b[1;33m\u001b[0m\u001b[0m\n\u001b[1;32m--> 482\u001b[1;33m         \u001b[0mio\u001b[0m \u001b[1;33m=\u001b[0m \u001b[0mExcelFile\u001b[0m\u001b[1;33m(\u001b[0m\u001b[0mio\u001b[0m\u001b[1;33m,\u001b[0m \u001b[0mstorage_options\u001b[0m\u001b[1;33m=\u001b[0m\u001b[0mstorage_options\u001b[0m\u001b[1;33m,\u001b[0m \u001b[0mengine\u001b[0m\u001b[1;33m=\u001b[0m\u001b[0mengine\u001b[0m\u001b[1;33m)\u001b[0m\u001b[1;33m\u001b[0m\u001b[1;33m\u001b[0m\u001b[0m\n\u001b[0m\u001b[0;32m    483\u001b[0m     \u001b[1;32melif\u001b[0m \u001b[0mengine\u001b[0m \u001b[1;32mand\u001b[0m \u001b[0mengine\u001b[0m \u001b[1;33m!=\u001b[0m \u001b[0mio\u001b[0m\u001b[1;33m.\u001b[0m\u001b[0mengine\u001b[0m\u001b[1;33m:\u001b[0m\u001b[1;33m\u001b[0m\u001b[1;33m\u001b[0m\u001b[0m\n\u001b[0;32m    484\u001b[0m         raise ValueError(\n",
      "\u001b[1;32m~\\AppData\\Roaming\\Python\\Python38\\site-packages\\pandas\\io\\excel\\_base.py\u001b[0m in \u001b[0;36m__init__\u001b[1;34m(self, path_or_buffer, engine, storage_options)\u001b[0m\n\u001b[0;32m   1693\u001b[0m         \u001b[0mself\u001b[0m\u001b[1;33m.\u001b[0m\u001b[0mstorage_options\u001b[0m \u001b[1;33m=\u001b[0m \u001b[0mstorage_options\u001b[0m\u001b[1;33m\u001b[0m\u001b[1;33m\u001b[0m\u001b[0m\n\u001b[0;32m   1694\u001b[0m \u001b[1;33m\u001b[0m\u001b[0m\n\u001b[1;32m-> 1695\u001b[1;33m         \u001b[0mself\u001b[0m\u001b[1;33m.\u001b[0m\u001b[0m_reader\u001b[0m \u001b[1;33m=\u001b[0m \u001b[0mself\u001b[0m\u001b[1;33m.\u001b[0m\u001b[0m_engines\u001b[0m\u001b[1;33m[\u001b[0m\u001b[0mengine\u001b[0m\u001b[1;33m]\u001b[0m\u001b[1;33m(\u001b[0m\u001b[0mself\u001b[0m\u001b[1;33m.\u001b[0m\u001b[0m_io\u001b[0m\u001b[1;33m,\u001b[0m \u001b[0mstorage_options\u001b[0m\u001b[1;33m=\u001b[0m\u001b[0mstorage_options\u001b[0m\u001b[1;33m)\u001b[0m\u001b[1;33m\u001b[0m\u001b[1;33m\u001b[0m\u001b[0m\n\u001b[0m\u001b[0;32m   1696\u001b[0m \u001b[1;33m\u001b[0m\u001b[0m\n\u001b[0;32m   1697\u001b[0m     \u001b[1;32mdef\u001b[0m \u001b[0m__fspath__\u001b[0m\u001b[1;33m(\u001b[0m\u001b[0mself\u001b[0m\u001b[1;33m)\u001b[0m\u001b[1;33m:\u001b[0m\u001b[1;33m\u001b[0m\u001b[1;33m\u001b[0m\u001b[0m\n",
      "\u001b[1;32m~\\AppData\\Roaming\\Python\\Python38\\site-packages\\pandas\\io\\excel\\_openpyxl.py\u001b[0m in \u001b[0;36m__init__\u001b[1;34m(self, filepath_or_buffer, storage_options)\u001b[0m\n\u001b[0;32m    554\u001b[0m         \u001b[1;33m{\u001b[0m\u001b[0mstorage_options\u001b[0m\u001b[1;33m}\u001b[0m\u001b[1;33m\u001b[0m\u001b[1;33m\u001b[0m\u001b[0m\n\u001b[0;32m    555\u001b[0m         \"\"\"\n\u001b[1;32m--> 556\u001b[1;33m         \u001b[0mimport_optional_dependency\u001b[0m\u001b[1;33m(\u001b[0m\u001b[1;34m\"openpyxl\"\u001b[0m\u001b[1;33m)\u001b[0m\u001b[1;33m\u001b[0m\u001b[1;33m\u001b[0m\u001b[0m\n\u001b[0m\u001b[0;32m    557\u001b[0m         \u001b[0msuper\u001b[0m\u001b[1;33m(\u001b[0m\u001b[1;33m)\u001b[0m\u001b[1;33m.\u001b[0m\u001b[0m__init__\u001b[0m\u001b[1;33m(\u001b[0m\u001b[0mfilepath_or_buffer\u001b[0m\u001b[1;33m,\u001b[0m \u001b[0mstorage_options\u001b[0m\u001b[1;33m=\u001b[0m\u001b[0mstorage_options\u001b[0m\u001b[1;33m)\u001b[0m\u001b[1;33m\u001b[0m\u001b[1;33m\u001b[0m\u001b[0m\n\u001b[0;32m    558\u001b[0m \u001b[1;33m\u001b[0m\u001b[0m\n",
      "\u001b[1;32m~\\AppData\\Roaming\\Python\\Python38\\site-packages\\pandas\\compat\\_optional.py\u001b[0m in \u001b[0;36mimport_optional_dependency\u001b[1;34m(name, extra, errors, min_version)\u001b[0m\n\u001b[0;32m    169\u001b[0m                 \u001b[1;32mreturn\u001b[0m \u001b[1;32mNone\u001b[0m\u001b[1;33m\u001b[0m\u001b[1;33m\u001b[0m\u001b[0m\n\u001b[0;32m    170\u001b[0m             \u001b[1;32melif\u001b[0m \u001b[0merrors\u001b[0m \u001b[1;33m==\u001b[0m \u001b[1;34m\"raise\"\u001b[0m\u001b[1;33m:\u001b[0m\u001b[1;33m\u001b[0m\u001b[1;33m\u001b[0m\u001b[0m\n\u001b[1;32m--> 171\u001b[1;33m                 \u001b[1;32mraise\u001b[0m \u001b[0mImportError\u001b[0m\u001b[1;33m(\u001b[0m\u001b[0mmsg\u001b[0m\u001b[1;33m)\u001b[0m\u001b[1;33m\u001b[0m\u001b[1;33m\u001b[0m\u001b[0m\n\u001b[0m\u001b[0;32m    172\u001b[0m \u001b[1;33m\u001b[0m\u001b[0m\n\u001b[0;32m    173\u001b[0m     \u001b[1;32mreturn\u001b[0m \u001b[0mmodule\u001b[0m\u001b[1;33m\u001b[0m\u001b[1;33m\u001b[0m\u001b[0m\n",
      "\u001b[1;31mImportError\u001b[0m: Pandas requires version '3.0.7' or newer of 'openpyxl' (version '3.0.5' currently installed)."
     ]
    }
   ],
   "source": [
    "df_motor_list = pd.read_excel('MPP Recovery.xlsx')"
   ]
  },
  {
   "cell_type": "code",
   "execution_count": 121,
   "metadata": {},
   "outputs": [
    {
     "name": "stdout",
     "output_type": "stream",
     "text": [
      "Requirement already satisfied: openpyxl in c:\\users\\bzlj0r\\anaconda3\\lib\\site-packages (3.0.5)\n",
      "Collecting update\n",
      "  Downloading update-0.0.1-py2.py3-none-any.whl (2.9 kB)\n",
      "Requirement already satisfied: et-xmlfile in c:\\users\\bzlj0r\\anaconda3\\lib\\site-packages (from openpyxl) (1.0.1)\n",
      "Requirement already satisfied: jdcal in c:\\users\\bzlj0r\\anaconda3\\lib\\site-packages (from openpyxl) (1.4.1)\n",
      "Collecting style==1.1.0\n",
      "  Downloading style-1.1.0-py2.py3-none-any.whl (6.4 kB)\n",
      "Installing collected packages: style, update\n",
      "Successfully installed style-1.1.0 update-0.0.1\n"
     ]
    }
   ],
   "source": [
    "!pip install openpyxl update"
   ]
  }
 ],
 "metadata": {
  "kernelspec": {
   "display_name": "Python 3",
   "language": "python",
   "name": "python3"
  },
  "language_info": {
   "codemirror_mode": {
    "name": "ipython",
    "version": 3
   },
   "file_extension": ".py",
   "mimetype": "text/x-python",
   "name": "python",
   "nbconvert_exporter": "python",
   "pygments_lexer": "ipython3",
   "version": "3.8.5"
  }
 },
 "nbformat": 4,
 "nbformat_minor": 4
}
